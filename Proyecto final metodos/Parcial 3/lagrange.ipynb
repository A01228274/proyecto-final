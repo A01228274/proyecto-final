{
 "cells": [
  {
   "cell_type": "code",
   "execution_count": 0,
   "metadata": {
    "collapsed": false
   },
   "outputs": [
   ],
   "source": [
    "from sympy import *\n",
    "import matplotlib.pyplot as plt\n",
    "import numpy as np\n",
    "# 77,68,70,59,58,64,72,57,63]\n",
    "# ,425,346,267,368,295,487,481,374,252]\n",
    "x = [67,52,56,66,65,80]\n",
    "y = [481,292,357,396,345,469]\n",
    "\n",
    "pL = ''\n",
    "for k in range(len(y)):\n",
    "    pL += str(y[k]) +'*'\n",
    "    Lxk = 1\n",
    "    for i in range(len(x)):\n",
    "        if (i == k):\n",
    "            continue\n",
    "        pL += '(x - %f)*'%(x[i])\n",
    "        Lxk *= (x[k]-x[i])\n",
    "    pL = pL[:-1]\n",
    "    pL += '/%f+'%(Lxk)\n",
    "pL = pL[:-1]\n",
    "\n",
    "expr = sympify(pL)\n",
    "#expr = expand(expr)\n",
    "print(expand(expr))\n",
    "plt.plot(x,y,'go')\n",
    "\n",
    "x2 = np.linspace(52,80,100)\n",
    "x = symbols('x')\n",
    "y2 = [expr.subs(x,xi) for xi in x2]\n",
    "plt.plot(x2,y2)\n",
    "plt.grid()"
   ]
  }
 ],
 "metadata": {
  "kernelspec": {
   "display_name": "Python 3 (Anaconda 5)",
   "language": "python",
   "name": "anaconda5"
  }
 },
 "nbformat": 4,
 "nbformat_minor": 0
}