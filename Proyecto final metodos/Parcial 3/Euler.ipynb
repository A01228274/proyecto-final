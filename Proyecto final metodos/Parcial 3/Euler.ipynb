{
 "cells": [
  {
   "cell_type": "code",
   "execution_count": 0,
   "metadata": {
    "collapsed": false
   },
   "outputs": [
   ],
   "source": [
    "# Metodo de Euler\n",
    "# y' - e^x = 0 y(0) =1  y(5) = ?\n",
    "# dy/dx = e^x\n",
    "import math\n",
    "import numpy as np\n",
    "import matplotlib.pyplot as plt\n",
    "\n",
    "def f(x,y):\n",
    "    return math.sin(x) + math.log(y)\n",
    "\n",
    "def euler(y0,x,h,f):\n",
    "    y = []\n",
    "    y.append(y0)\n",
    "    for i in range(1,len(x)):\n",
    "        y.append( y[i-1] + h*f(x[i-1],y[i-1]) )\n",
    "    return y\n",
    "\n",
    "n = 20\n",
    "a = 0.13\n",
    "b = 0.14\n",
    "h = abs(a-b)/(n-1)\n",
    "x = np.linspace(a,b,n)\n",
    "y = euler(1,x,h,f)\n",
    "\n",
    "plt.plot(x,y,'g')\n",
    "#plt.plot(x,[math.exp(xi) for xi in x],'b')\n",
    "plt.grid()"
   ]
  }
 ],
 "metadata": {
  "kernelspec": {
   "display_name": "Python 3 (Anaconda 5)",
   "language": "python",
   "name": "anaconda5"
  }
 },
 "nbformat": 4,
 "nbformat_minor": 0
}